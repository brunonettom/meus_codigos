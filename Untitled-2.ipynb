{
 "cells": [
  {
   "cell_type": "code",
   "execution_count": 45,
   "metadata": {},
   "outputs": [],
   "source": [
    "import numpy as np\n",
    "\n",
    "def dano_medio(_n, dado, critico, n):\n",
    "    # Gera todas as rolagens de uma vez\n",
    "    rolagens = np.random.randint(1, dado+1, size=(n, _n))\n",
    "    # Pega o máximo de cada conjunto de rolagens\n",
    "    maximos = np.max(rolagens, axis=1)\n",
    "    # Substitui os críticos\n",
    "    maximos[maximos == dado] = critico\n",
    "    return np.mean(maximos)\n"
   ]
  },
  {
   "cell_type": "code",
   "execution_count": null,
   "metadata": {},
   "outputs": [
    {
     "name": "stdout",
     "output_type": "stream",
     "text": [
      "PISTOLA:       7.000534 ------- 1d12 ----- crítico: 18 ------ 1000000 simulações\n",
      "REVÓLVER:      8.444422 ------- 2d6 ----- crítico: 19 ------ 1000000 simulações\n",
      "FUZIL DE CAÇA: 8.387038 ------- 2d8 ----- crítico: 19 ------ 1000000 simulações\n"
     ]
    }
   ],
   "source": [
    "\n",
    "_n=1\n",
    "dado=12\n",
    "critico=18\n",
    "n=1000000\n",
    "dano_medio_da_arma=dano_medio(_n,dado,critico,n)\n",
    "print(f'PISTOLA:       {dano_medio_da_arma} ------- {_n}d{dado} ----- crítico: {critico} ------ {n} simulações')\n",
    "\n",
    "_n=2\n",
    "dado=6\n",
    "\n",
    "critico=19\n",
    "dano_medio_da_arma=dano_medio(_n,dado,critico,n)\n",
    "print(f'REVÓLVER:      {dano_medio_da_arma} ------- {_n}d{dado} ----- crítico: {critico} ------ {n} simulações')\n",
    "\n",
    "_n=2\n",
    "dado=8\n",
    "critico=19\n",
    "dano_medio_da_arma=dano_medio(_n,dado,critico,n)\n",
    "print(f'FUZIL DE CAÇA: {dano_medio_da_arma} ------- {_n}d{dado} ----- crítico: {critico} ------ {n} simulações')\n",
    "\n"
   ]
  },
  {
   "cell_type": "code",
   "execution_count": null,
   "metadata": {},
   "outputs": [],
   "source": []
  },
  {
   "cell_type": "code",
   "execution_count": null,
   "metadata": {},
   "outputs": [],
   "source": []
  }
 ],
 "metadata": {
  "kernelspec": {
   "display_name": "base",
   "language": "python",
   "name": "python3"
  },
  "language_info": {
   "codemirror_mode": {
    "name": "ipython",
    "version": 3
   },
   "file_extension": ".py",
   "mimetype": "text/x-python",
   "name": "python",
   "nbconvert_exporter": "python",
   "pygments_lexer": "ipython3",
   "version": "3.12.7"
  }
 },
 "nbformat": 4,
 "nbformat_minor": 2
}
